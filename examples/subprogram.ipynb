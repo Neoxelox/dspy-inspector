{
 "cells": [
  {
   "cell_type": "code",
   "execution_count": null,
   "metadata": {},
   "outputs": [],
   "source": [
    "%load_ext dotenv\n",
    "%dotenv\n",
    "OPENAI_API_KEY = %env OPENAI_API_KEY\n",
    "%env DSP_CACHEDIR=./cache/library\n",
    "%env DSP_NOTEBOOK_CACHEDIR=./cache/notebook"
   ]
  },
  {
   "cell_type": "markdown",
   "metadata": {},
   "source": [
    "> This will use the repo's cache to not need to call LLMs"
   ]
  },
  {
   "cell_type": "markdown",
   "metadata": {},
   "source": [
    "# Importing DSPy and DSPy Inspector"
   ]
  },
  {
   "cell_type": "code",
   "execution_count": null,
   "metadata": {},
   "outputs": [],
   "source": [
    "import dspy\n",
    "from dspy_inspector import inspect"
   ]
  },
  {
   "cell_type": "markdown",
   "metadata": {},
   "source": [
    "# Configuring the DSPy defaults"
   ]
  },
  {
   "cell_type": "code",
   "execution_count": null,
   "metadata": {},
   "outputs": [],
   "source": [
    "lm = dspy.OpenAI(model=\"gpt-3.5-turbo-instruct\", max_tokens=300)\n",
    "rm = dspy.ColBERTv2(url=\"http://20.102.90.50:2017/wiki17_abstracts\")\n",
    "dspy.configure(lm=lm, rm=rm)"
   ]
  },
  {
   "cell_type": "markdown",
   "metadata": {},
   "source": [
    "# Creating a simple RAG program with a Classification subprogram"
   ]
  },
  {
   "cell_type": "code",
   "execution_count": null,
   "metadata": {},
   "outputs": [],
   "source": [
    "class GenerateAnswer(dspy.Signature):\n",
    "    \"\"\"Answer questions with factoid answers.\"\"\"\n",
    "\n",
    "    context = dspy.InputField(desc=\"may contain relevant facts\")\n",
    "    question = dspy.InputField()\n",
    "    answer = dspy.OutputField(desc=\"no more than a couple of sentences\")\n",
    "\n",
    "class CheckFaithfulness(dspy.Signature):\n",
    "    \"\"\"Verify that the answer is based on the provided context.\"\"\"\n",
    "\n",
    "    context = dspy.InputField(desc=\"Facts here are assumed to be true\")\n",
    "    answer = dspy.InputField()\n",
    "    faithfulness = dspy.OutputField(desc=\"True/False indicating if answer is faithful to context\")\n",
    "\n",
    "class FaithfulnessClassifier(dspy.Module):\n",
    "    def __init__(self):\n",
    "        super().__init__()\n",
    "\n",
    "        self.check_faithfulness = dspy.ChainOfThought(CheckFaithfulness)\n",
    "\n",
    "    def forward(self, context, answer):\n",
    "        faithfulness = self.check_faithfulness(context=context, answer=answer).faithfulness\n",
    "\n",
    "        return dspy.Prediction(faithfulness=faithfulness)\n",
    "\n",
    "class FaithfulRAG(dspy.Module):\n",
    "    def __init__(self, passages=3):\n",
    "        super().__init__()\n",
    "\n",
    "        self.retrieve = dspy.Retrieve(k=passages)\n",
    "        self.generate_answer = dspy.ChainOfThought(GenerateAnswer)\n",
    "        self.check_faithfulness = FaithfulnessClassifier()\n",
    "    \n",
    "    def forward(self, question):\n",
    "        context = self.retrieve(question).passages\n",
    "        answer = self.generate_answer(context=context, question=question).answer\n",
    "        faithfulness = self.check_faithfulness(context=context, answer=answer).faithfulness\n",
    "\n",
    "        return dspy.Prediction(context=context, answer=answer, faithfulness=faithfulness)"
   ]
  },
  {
   "cell_type": "markdown",
   "metadata": {},
   "source": [
    "# Inspecting the uncompiled RAG program\n",
    "\n",
    "> The created graph is bound to the created program's instance. Any subsequent calls to the program will update the graph.\n",
    "\n",
    "Before any calls some information is empty, such as the parameters values."
   ]
  },
  {
   "cell_type": "code",
   "execution_count": null,
   "metadata": {},
   "outputs": [],
   "source": [
    "uncompiled_faithfulRAG = FaithfulRAG()\n",
    "inspect(uncompiled_faithfulRAG)"
   ]
  },
  {
   "cell_type": "markdown",
   "metadata": {},
   "source": [
    "After calling the program information is filled, check the parameters values."
   ]
  },
  {
   "cell_type": "code",
   "execution_count": null,
   "metadata": {},
   "outputs": [],
   "source": [
    "uncompiled_faithfulRAG(\"How many storeys are in the castle that David Gregory inherited?\")"
   ]
  },
  {
   "cell_type": "code",
   "execution_count": null,
   "metadata": {},
   "outputs": [],
   "source": [
    "uncompiled_faithfulRAG(\"When was the first FIFA World Cup held?\")"
   ]
  },
  {
   "cell_type": "code",
   "execution_count": null,
   "metadata": {},
   "outputs": [],
   "source": [
    "uncompiled_faithfulRAG(\"Who conducts the draft in which Marc-Andre Fleury was drafted to the Vegas Golden Knights for the 2017-18 season?\")"
   ]
  },
  {
   "cell_type": "code",
   "execution_count": null,
   "metadata": {},
   "outputs": [],
   "source": []
  }
 ],
 "metadata": {
  "kernelspec": {
   "display_name": "dspy-inspector-8FAx0NxI-py3.11",
   "language": "python",
   "name": "python3"
  },
  "language_info": {
   "codemirror_mode": {
    "name": "ipython",
    "version": 3
   },
   "file_extension": ".py",
   "mimetype": "text/x-python",
   "name": "python",
   "nbconvert_exporter": "python",
   "pygments_lexer": "ipython3",
   "version": "3.11.4"
  }
 },
 "nbformat": 4,
 "nbformat_minor": 2
}
